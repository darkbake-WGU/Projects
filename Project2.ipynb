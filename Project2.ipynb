{
 "cells": [
  {
   "cell_type": "markdown",
   "metadata": {},
   "source": [
    "## Questions\n",
    "1. The independent variable is whether the words are incrongruent or congruent. The dependent variable is the time it takes to name the ink colors in equally-sized lists.\n",
    "\n",
    "2. We have two groups to study - the test group, and the control group. We are looking to see if the independent variable causes a difference in the dependent variable. Therefore, I would use a paired-sample dependent t-test. The null hypothesis would be that the difference of means in the groups is 0, and the alternative hypothesis is that the difference of means in the groups is not 0. I say this because I am not sure how changing the color's label would affect response time. I would like to use a 95% confidence level.\n",
    "\n",
    "3. Null Hypthesis H0: u1-u2 = 0, Alternative Hypothesis Ha: u1-u2 != 0. u1 = mean of congruent colors, u2 = mean of incongruent colors, H0 = null hypothesis, Ha = alternative hypothesis.\n",
    "\n",
    "4. For the paired-sample t-test, the dependent variable must be continuous, the observations must be independent of one another, the dependent variable should be approximately normally distributed, and the dependent variable should not contain any outliers. The dependent variable \"time\" is continuous."
   ]
  },
  {
   "cell_type": "code",
   "execution_count": 12,
   "metadata": {},
   "outputs": [
    {
     "name": "stdout",
     "output_type": "stream",
     "text": [
      "Collecting package metadata (current_repodata.json): ...working... done\n",
      "Solving environment: ...working... done\n",
      "\n",
      "# All requested packages already installed.\n",
      "\n"
     ]
    }
   ],
   "source": [
    "!conda install -y -c conda-forge matplotlib"
   ]
  },
  {
   "cell_type": "code",
   "execution_count": null,
   "metadata": {},
   "outputs": [],
   "source": [
    "!conda update -y -c conda-forge matplotlib "
   ]
  },
  {
   "cell_type": "code",
   "execution_count": 9,
   "metadata": {},
   "outputs": [
    {
     "ename": "ImportError",
     "evalue": "cannot import name 'animation' from partially initialized module 'matplotlib' (most likely due to a circular import) (C:\\Users\\Home\\anaconda3\\lib\\site-packages\\matplotlib\\__init__.py)",
     "output_type": "error",
     "traceback": [
      "\u001b[1;31m---------------------------------------------------------------------------\u001b[0m",
      "\u001b[1;31mImportError\u001b[0m                               Traceback (most recent call last)",
      "\u001b[1;32m<ipython-input-9-fd5d58873a04>\u001b[0m in \u001b[0;36m<module>\u001b[1;34m\u001b[0m\n\u001b[0;32m      2\u001b[0m \u001b[1;32mimport\u001b[0m \u001b[0mpandas\u001b[0m \u001b[1;32mas\u001b[0m \u001b[0mpd\u001b[0m\u001b[1;33m\u001b[0m\u001b[1;33m\u001b[0m\u001b[0m\n\u001b[0;32m      3\u001b[0m \u001b[1;32mimport\u001b[0m \u001b[0mmath\u001b[0m\u001b[1;33m\u001b[0m\u001b[1;33m\u001b[0m\u001b[0m\n\u001b[1;32m----> 4\u001b[1;33m \u001b[1;32mimport\u001b[0m \u001b[0mmatplotlib\u001b[0m\u001b[1;33m.\u001b[0m\u001b[0mpyplot\u001b[0m \u001b[1;32mas\u001b[0m \u001b[0mplt\u001b[0m\u001b[1;33m\u001b[0m\u001b[1;33m\u001b[0m\u001b[0m\n\u001b[0m\u001b[0;32m      5\u001b[0m \u001b[1;33m\u001b[0m\u001b[0m\n\u001b[0;32m      6\u001b[0m \u001b[1;31m##Import lab_data\u001b[0m\u001b[1;33m\u001b[0m\u001b[1;33m\u001b[0m\u001b[1;33m\u001b[0m\u001b[0m\n",
      "\u001b[1;32m~\\anaconda3\\lib\\site-packages\\matplotlib\\__init__.py\u001b[0m in \u001b[0;36m<module>\u001b[1;34m\u001b[0m\n\u001b[0;32m    105\u001b[0m \u001b[1;31m# cbook must import matplotlib only within function\u001b[0m\u001b[1;33m\u001b[0m\u001b[1;33m\u001b[0m\u001b[1;33m\u001b[0m\u001b[0m\n\u001b[0;32m    106\u001b[0m \u001b[1;31m# definitions, so it is safe to import from it here.\u001b[0m\u001b[1;33m\u001b[0m\u001b[1;33m\u001b[0m\u001b[1;33m\u001b[0m\u001b[0m\n\u001b[1;32m--> 107\u001b[1;33m \u001b[1;32mfrom\u001b[0m \u001b[1;33m.\u001b[0m \u001b[1;32mimport\u001b[0m \u001b[0mcbook\u001b[0m\u001b[1;33m,\u001b[0m \u001b[0mrcsetup\u001b[0m\u001b[1;33m\u001b[0m\u001b[1;33m\u001b[0m\u001b[0m\n\u001b[0m\u001b[0;32m    108\u001b[0m \u001b[1;32mfrom\u001b[0m \u001b[0mmatplotlib\u001b[0m\u001b[1;33m.\u001b[0m\u001b[0mcbook\u001b[0m \u001b[1;32mimport\u001b[0m \u001b[0mMatplotlibDeprecationWarning\u001b[0m\u001b[1;33m,\u001b[0m \u001b[0msanitize_sequence\u001b[0m\u001b[1;33m\u001b[0m\u001b[1;33m\u001b[0m\u001b[0m\n\u001b[0;32m    109\u001b[0m \u001b[1;32mfrom\u001b[0m \u001b[0mmatplotlib\u001b[0m\u001b[1;33m.\u001b[0m\u001b[0mcbook\u001b[0m \u001b[1;32mimport\u001b[0m \u001b[0mmplDeprecation\u001b[0m  \u001b[1;31m# deprecated\u001b[0m\u001b[1;33m\u001b[0m\u001b[1;33m\u001b[0m\u001b[0m\n",
      "\u001b[1;32m~\\anaconda3\\lib\\site-packages\\matplotlib\\rcsetup.py\u001b[0m in \u001b[0;36m<module>\u001b[1;34m\u001b[0m\n\u001b[0;32m     24\u001b[0m \u001b[1;32mimport\u001b[0m \u001b[0mnumpy\u001b[0m \u001b[1;32mas\u001b[0m \u001b[0mnp\u001b[0m\u001b[1;33m\u001b[0m\u001b[1;33m\u001b[0m\u001b[0m\n\u001b[0;32m     25\u001b[0m \u001b[1;33m\u001b[0m\u001b[0m\n\u001b[1;32m---> 26\u001b[1;33m \u001b[1;32mfrom\u001b[0m \u001b[0mmatplotlib\u001b[0m \u001b[1;32mimport\u001b[0m \u001b[0manimation\u001b[0m\u001b[1;33m,\u001b[0m \u001b[0mcbook\u001b[0m\u001b[1;33m\u001b[0m\u001b[1;33m\u001b[0m\u001b[0m\n\u001b[0m\u001b[0;32m     27\u001b[0m \u001b[1;32mfrom\u001b[0m \u001b[0mmatplotlib\u001b[0m\u001b[1;33m.\u001b[0m\u001b[0mcbook\u001b[0m \u001b[1;32mimport\u001b[0m \u001b[0mls_mapper\u001b[0m\u001b[1;33m\u001b[0m\u001b[1;33m\u001b[0m\u001b[0m\n\u001b[0;32m     28\u001b[0m \u001b[1;32mfrom\u001b[0m \u001b[0mmatplotlib\u001b[0m\u001b[1;33m.\u001b[0m\u001b[0mfontconfig_pattern\u001b[0m \u001b[1;32mimport\u001b[0m \u001b[0mparse_fontconfig_pattern\u001b[0m\u001b[1;33m\u001b[0m\u001b[1;33m\u001b[0m\u001b[0m\n",
      "\u001b[1;31mImportError\u001b[0m: cannot import name 'animation' from partially initialized module 'matplotlib' (most likely due to a circular import) (C:\\Users\\Home\\anaconda3\\lib\\site-packages\\matplotlib\\__init__.py)"
     ]
    }
   ],
   "source": [
    "##Header\n",
    "import pandas as pd\n",
    "import math\n",
    "import matplotlib.pyplot as plt\n",
    "\n",
    "##Import lab_data\n",
    "lab_data = pd.read_csv('stroopdata.csv')\n",
    "\n",
    "##Set inline graphs\n",
    "%matplotlib inline\n"
   ]
  },
  {
   "cell_type": "code",
   "execution_count": null,
   "metadata": {},
   "outputs": [],
   "source": [
    "##Learning about the data\n",
    "lab_data.head()"
   ]
  },
  {
   "cell_type": "code",
   "execution_count": null,
   "metadata": {
    "scrolled": true
   },
   "outputs": [],
   "source": [
    "##This will tell us the mean and the standard deviation of each of the data\n",
    "lab_data.describe()"
   ]
  },
  {
   "cell_type": "code",
   "execution_count": null,
   "metadata": {},
   "outputs": [],
   "source": [
    "##This cell will look at the historgram of the difference of dependent variables to look for outliers and a normal distribution.\n",
    "lab_data[\"difference\"] = lab_data[\"Incongruent\"]-lab_data[\"Congruent\"]\n",
    "lab_data.hist(column='difference')"
   ]
  },
  {
   "cell_type": "markdown",
   "metadata": {},
   "source": [
    "It looks as if the data is not normally distributed! However, I am going to continue going with the dependent t-test."
   ]
  },
  {
   "cell_type": "markdown",
   "metadata": {},
   "source": [
    "## More Questions\n",
    "3. The mean and standard deviation of both the Congruent and Incongruent color data are listed in the chart above.\n",
    "\n",
    "4. I have made a boxplot of the data below."
   ]
  },
  {
   "cell_type": "code",
   "execution_count": null,
   "metadata": {},
   "outputs": [],
   "source": [
    "##Here is a boxplot of the incongruent data:\n",
    "lab_data.boxplot(column='Incongruent')\n",
    "plt.ylabel(\"Reaction Time (in Nanoseconds)\")\n",
    "plt.xlabel(\"X\")\n",
    "plt.title(\"Reaction Time with Incongruent Data\");"
   ]
  },
  {
   "cell_type": "code",
   "execution_count": null,
   "metadata": {},
   "outputs": [],
   "source": [
    "##Here is a boxplot of the congruent data:\n",
    "lab_data.boxplot(column = 'Congruent')"
   ]
  },
  {
   "cell_type": "markdown",
   "metadata": {},
   "source": [
    "These boxplots show that the mean of the incongruent data is much higher than the mean of the congruent data. Also, regarding the congruent data, there is more of a tail on the upper end of time than in the incongruent data. The incongruent data is more consistent except for a few outliers."
   ]
  },
  {
   "cell_type": "markdown",
   "metadata": {},
   "source": []
  },
  {
   "cell_type": "code",
   "execution_count": null,
   "metadata": {},
   "outputs": [],
   "source": [
    "#5. Let us do a t-test involving difference-of-means. \n",
    "#First, find the standard error of the mean.\n",
    "\n",
    "s1 = round(lab_data.Congruent.std(),4)\n",
    "s2 = round(lab_data.Incongruent.std(),4)\n",
    "m1 = round(lab_data.Congruent.mean(),4)\n",
    "m2 = round(lab_data.Incongruent.mean(),4)\n",
    "md = lab_data.difference.mean()\n",
    "n = 24\n",
    "df = n-1\n",
    "sumd = lab_data.difference.sum()\n",
    "#sumsqrd = sum of the squared differences\n",
    "\n",
    "#Let's calculate the sum of the squared differences really quick...\n",
    "\n",
    "lab_data['sqrdiff'] = lab_data['difference']**2\n",
    "sumsqrd = round(lab_data.sqrdiff.sum(),2)\n",
    "\n",
    "#s1 = standard deviation of congruent data, s2 = standard deviation of incongruent data, m1 = mean of congruent data,\n",
    "#m2 = mean of incongruent data, md = mean difference, n = number of cases, df = degrees of freedom, sumd = sum of the differences\n",
    "\n",
    "\n",
    "#Find t and tstar (tstar used a t-table with 23 degrees of freedom and 95%)\n",
    "\n",
    "t = round( (sumd/n) / ( ((sumsqrd)-(sumd**2/n)) / ( (n-1)*n ) )**(1/2) , 2)\n",
    "\n",
    "\n",
    "tstar = 2.069\n",
    "#t-star for 23 degrees of freedom with an alpha level of .05, from a table\n",
    "\n",
    "print('t is: ', t)\n",
    "print('tstar is:', tstar)\n",
    "\n",
    "\n"
   ]
  },
  {
   "cell_type": "markdown",
   "metadata": {},
   "source": [
    "5. The conclusion of the test is that we reject the null hypothesis that the difference is zero. Instead, we accept the alternate hypothesis that there is a statistically significant difference in the means at an alpha of .05. This is what I suspected! This is because the t-value of 8.02 is greater than the two-tailed t-star value of 2.069.\n",
    "\n",
    "6. I believe that this effect makes sense. It confuses us when we read a word that says one color but displays another. This is called the Stroop Effect. One could also design an experiment with up or down arrows above or below a target. One explanation of the Stroop Effect is the \"Speed of Processing Theory.\" According to this theory, we can process written words faster than we can process colors. Thus, it is difficult to identify the color once we’ve already read the word."
   ]
  },
  {
   "cell_type": "code",
   "execution_count": null,
   "metadata": {},
   "outputs": [],
   "source": []
  }
 ],
 "metadata": {
  "kernelspec": {
   "display_name": "Python 3",
   "language": "python",
   "name": "python3"
  },
  "language_info": {
   "codemirror_mode": {
    "name": "ipython",
    "version": 3
   },
   "file_extension": ".py",
   "mimetype": "text/x-python",
   "name": "python",
   "nbconvert_exporter": "python",
   "pygments_lexer": "ipython3",
   "version": "3.8.5"
  }
 },
 "nbformat": 4,
 "nbformat_minor": 4
}
