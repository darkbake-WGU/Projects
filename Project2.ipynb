{
 "cells": [
  {
   "cell_type": "markdown",
   "metadata": {},
   "source": [
    "# Investigating a Data Set\n",
    "\n",
    "\"In a Stroop task, participants are presented with a list of words, with each word displayed in a color of ink. The participant’s task is to say out loud the color of the ink in which the word is printed. The task has two conditions: a congruent words condition, and an incongruent words condition. In the congruent words condition, the words being displayed are color words whose names match the colors in which they are printed: for example RED, BLUE. In the incongruent words condition, the words displayed are color words whose names do not match the colors in which they are printed: for example PURPLE, ORANGE. In each case, we measure the time it takes to name the ink colors in equally-sized lists. Each participant will go through and record a time from each condition.\""
   ]
  },
  {
   "cell_type": "markdown",
   "metadata": {},
   "source": [
    "## Questions\n",
    "1. The independent variable is whether the words are incrongruent or congruent. The dependent variable is the time it takes to name the ink colors in equally-sized lists.\n",
    "\n",
    "2. We have two groups to study - the test group, and the control group. We are looking to see if the independent variable causes a difference in the dependent variable. Therefore, I would use a paired-sample dependent t-test. The null hypothesis would be that the difference of means in the groups is 0, and the alternative hypothesis is that the difference of means in the groups is not 0. I say this because I am not sure how changing the color's label would affect response time. I would like to use a 95% confidence level.\n",
    "\n",
    "3. Null Hypthesis H0: u1-u2 = 0, Alternative Hypothesis Ha: u1-u2 != 0. u1 = mean of congruent colors, u2 = mean of incongruent colors, H0 = null hypothesis, Ha = alternative hypothesis.\n",
    "\n",
    "4. For the paired-sample t-test, the dependent variable must be continuous, the observations must be independent of one another, the dependent variable should be approximately normally distributed, and the dependent variable should not contain any outliers. The dependent variable \"time\" is continuous."
   ]
  },
  {
   "cell_type": "code",
   "execution_count": 6,
   "metadata": {},
   "outputs": [],
   "source": [
    "##Header\n",
    "import pandas as pd\n",
    "import math\n",
    "\n",
    "##Import lab_data\n",
    "lab_data = pd.read_csv('stroopdata.csv')\n",
    "\n",
    "##Set inline graphs\n",
    "%matplotlib inline\n"
   ]
  },
  {
   "cell_type": "code",
   "execution_count": 7,
   "metadata": {},
   "outputs": [
    {
     "data": {
      "text/html": [
       "<div>\n",
       "<style scoped>\n",
       "    .dataframe tbody tr th:only-of-type {\n",
       "        vertical-align: middle;\n",
       "    }\n",
       "\n",
       "    .dataframe tbody tr th {\n",
       "        vertical-align: top;\n",
       "    }\n",
       "\n",
       "    .dataframe thead th {\n",
       "        text-align: right;\n",
       "    }\n",
       "</style>\n",
       "<table border=\"1\" class=\"dataframe\">\n",
       "  <thead>\n",
       "    <tr style=\"text-align: right;\">\n",
       "      <th></th>\n",
       "      <th>Congruent</th>\n",
       "      <th>Incongruent</th>\n",
       "    </tr>\n",
       "  </thead>\n",
       "  <tbody>\n",
       "    <tr>\n",
       "      <th>0</th>\n",
       "      <td>12.079</td>\n",
       "      <td>19.278</td>\n",
       "    </tr>\n",
       "    <tr>\n",
       "      <th>1</th>\n",
       "      <td>16.791</td>\n",
       "      <td>18.741</td>\n",
       "    </tr>\n",
       "    <tr>\n",
       "      <th>2</th>\n",
       "      <td>9.564</td>\n",
       "      <td>21.214</td>\n",
       "    </tr>\n",
       "    <tr>\n",
       "      <th>3</th>\n",
       "      <td>8.630</td>\n",
       "      <td>15.687</td>\n",
       "    </tr>\n",
       "    <tr>\n",
       "      <th>4</th>\n",
       "      <td>14.669</td>\n",
       "      <td>22.803</td>\n",
       "    </tr>\n",
       "  </tbody>\n",
       "</table>\n",
       "</div>"
      ],
      "text/plain": [
       "   Congruent  Incongruent\n",
       "0     12.079       19.278\n",
       "1     16.791       18.741\n",
       "2      9.564       21.214\n",
       "3      8.630       15.687\n",
       "4     14.669       22.803"
      ]
     },
     "execution_count": 7,
     "metadata": {},
     "output_type": "execute_result"
    }
   ],
   "source": [
    "##Learning about the data\n",
    "lab_data.head()"
   ]
  },
  {
   "cell_type": "code",
   "execution_count": 10,
   "metadata": {
    "scrolled": true
   },
   "outputs": [
    {
     "data": {
      "text/html": [
       "<div>\n",
       "<style scoped>\n",
       "    .dataframe tbody tr th:only-of-type {\n",
       "        vertical-align: middle;\n",
       "    }\n",
       "\n",
       "    .dataframe tbody tr th {\n",
       "        vertical-align: top;\n",
       "    }\n",
       "\n",
       "    .dataframe thead th {\n",
       "        text-align: right;\n",
       "    }\n",
       "</style>\n",
       "<table border=\"1\" class=\"dataframe\">\n",
       "  <thead>\n",
       "    <tr style=\"text-align: right;\">\n",
       "      <th></th>\n",
       "      <th>Congruent</th>\n",
       "      <th>Incongruent</th>\n",
       "    </tr>\n",
       "  </thead>\n",
       "  <tbody>\n",
       "    <tr>\n",
       "      <th>count</th>\n",
       "      <td>24.000000</td>\n",
       "      <td>24.000000</td>\n",
       "    </tr>\n",
       "    <tr>\n",
       "      <th>mean</th>\n",
       "      <td>14.051125</td>\n",
       "      <td>22.015917</td>\n",
       "    </tr>\n",
       "    <tr>\n",
       "      <th>std</th>\n",
       "      <td>3.559358</td>\n",
       "      <td>4.797057</td>\n",
       "    </tr>\n",
       "    <tr>\n",
       "      <th>min</th>\n",
       "      <td>8.630000</td>\n",
       "      <td>15.687000</td>\n",
       "    </tr>\n",
       "    <tr>\n",
       "      <th>25%</th>\n",
       "      <td>11.895250</td>\n",
       "      <td>18.716750</td>\n",
       "    </tr>\n",
       "    <tr>\n",
       "      <th>50%</th>\n",
       "      <td>14.356500</td>\n",
       "      <td>21.017500</td>\n",
       "    </tr>\n",
       "    <tr>\n",
       "      <th>75%</th>\n",
       "      <td>16.200750</td>\n",
       "      <td>24.051500</td>\n",
       "    </tr>\n",
       "    <tr>\n",
       "      <th>max</th>\n",
       "      <td>22.328000</td>\n",
       "      <td>35.255000</td>\n",
       "    </tr>\n",
       "  </tbody>\n",
       "</table>\n",
       "</div>"
      ],
      "text/plain": [
       "       Congruent  Incongruent\n",
       "count  24.000000    24.000000\n",
       "mean   14.051125    22.015917\n",
       "std     3.559358     4.797057\n",
       "min     8.630000    15.687000\n",
       "25%    11.895250    18.716750\n",
       "50%    14.356500    21.017500\n",
       "75%    16.200750    24.051500\n",
       "max    22.328000    35.255000"
      ]
     },
     "execution_count": 10,
     "metadata": {},
     "output_type": "execute_result"
    }
   ],
   "source": [
    "##This will tell us the mean and the standard deviation of each of the data\n",
    "lab_data.describe()"
   ]
  },
  {
   "cell_type": "code",
   "execution_count": 11,
   "metadata": {},
   "outputs": [
    {
     "data": {
      "text/plain": [
       "array([[<AxesSubplot:title={'center':'difference'}>]], dtype=object)"
      ]
     },
     "execution_count": 11,
     "metadata": {},
     "output_type": "execute_result"
    },
    {
     "data": {
      "image/png": "[encoded data removed]",
      "text/plain": [
       "<Figure size 432x288 with 1 Axes>"
      ]
     },
     "metadata": {
      "needs_background": "light"
     },
     "output_type": "display_data"
    }
   ],
   "source": [
    "##This cell will look at the historgram of the difference of dependent variables to look for outliers and a normal distribution.\n",
    "lab_data[\"difference\"] = lab_data[\"Incongruent\"]-lab_data[\"Congruent\"]\n",
    "lab_data.hist(column='difference')"
   ]
  },
  {
   "cell_type": "markdown",
   "metadata": {},
   "source": [
    "It looks as if the data is not normally distributed! However, I am going to continue going with the dependent t-test."
   ]
  },
  {
   "cell_type": "markdown",
   "metadata": {},
   "source": [
    "## More Questions\n",
    "3. The mean and standard deviation of both the Congruent and Incongruent color data are listed in the chart above.\n",
    "\n",
    "4. I have made a boxplot of the data below."
   ]
  },
  {
   "cell_type": "code",
   "execution_count": 22,
   "metadata": {},
   "outputs": [
    {
     "data": {
      "text/plain": [
       "<AxesSubplot:>"
      ]
     },
     "execution_count": 22,
     "metadata": {},
     "output_type": "execute_result"
    },
    {
     "data": {
      "image/png": "[encoded data removed]",
      "text/plain": [
       "<Figure size 432x288 with 1 Axes>"
      ]
     },
     "metadata": {
      "needs_background": "light"
     },
     "output_type": "display_data"
    }
   ],
   "source": [
    "##Here is a boxplot of the incongruent data:\n",
    "lab_data.boxplot(column='Incongruent')"
   ]
  },
  {
   "cell_type": "code",
   "execution_count": 23,
   "metadata": {},
   "outputs": [
    {
     "data": {
      "text/plain": [
       "<AxesSubplot:>"
      ]
     },
     "execution_count": 23,
     "metadata": {},
     "output_type": "execute_result"
    },
    {
     "data": {
      "image/png": "[encoded data removed]",
      "text/plain": [
       "<Figure size 432x288 with 1 Axes>"
      ]
     },
     "metadata": {
      "needs_background": "light"
     },
     "output_type": "display_data"
    }
   ],
   "source": [
    "##Here is a boxplot of the congruent data:\n",
    "lab_data.boxplot(column = 'Congruent')"
   ]
  },
  {
   "cell_type": "markdown",
   "metadata": {},
   "source": [
    "These boxplots show that the mean of the incongruent data is much higher than the mean of the congruent data. Also, regarding the congruent data, there is more of a tail on the upper end of time than in the incongruent data. The incongruent data is more consistent except for a few outliers."
   ]
  },
  {
   "cell_type": "markdown",
   "metadata": {},
   "source": []
  },
  {
   "cell_type": "code",
   "execution_count": 40,
   "metadata": {},
   "outputs": [
    {
     "name": "stdout",
     "output_type": "stream",
     "text": [
      "t is:  8.02\n",
      "tstar is: 2.069\n"
     ]
    }
   ],
   "source": [
    "#5. Let us do a t-test involving difference-of-means. \n",
    "#First, find the standard error of the mean.\n",
    "\n",
    "s1 = round(lab_data.Congruent.std(),4)\n",
    "s2 = round(lab_data.Incongruent.std(),4)\n",
    "m1 = round(lab_data.Congruent.mean(),4)\n",
    "m2 = round(lab_data.Incongruent.mean(),4)\n",
    "md = lab_data.difference.mean()\n",
    "n = 24\n",
    "df = n-1\n",
    "sumd = lab_data.difference.sum()\n",
    "#sumsqrd = sum of the squared differences\n",
    "\n",
    "#Let's calculate the sum of the squared differences really quick...\n",
    "\n",
    "lab_data['sqrdiff'] = lab_data['difference']**2\n",
    "sumsqrd = round(lab_data.sqrdiff.sum(),2)\n",
    "\n",
    "#s1 = standard deviation of congruent data, s2 = standard deviation of incongruent data, m1 = mean of congruent data,\n",
    "#m2 = mean of incongruent data, md = mean difference, n = number of cases, df = degrees of freedom, sumd = sum of the differences\n",
    "\n",
    "\n",
    "#Find t and tstar (tstar used a t-table with 23 degrees of freedom and 95%)\n",
    "\n",
    "t = round( (sumd/n) / ( ((sumsqrd)-(sumd**2/n)) / ( (n-1)*n ) )**(1/2) , 2)\n",
    "\n",
    "\n",
    "tstar = 2.069\n",
    "#t-star for 23 degrees of freedom with an alpha level of .05, from a table\n",
    "\n",
    "print('t is: ', t)\n",
    "print('tstar is:', tstar)\n",
    "\n",
    "\n"
   ]
  },
  {
   "cell_type": "markdown",
   "metadata": {},
   "source": [
    "5. The conclusion of the test is that we reject the null hypothesis that the difference is zero. Instead, we accept the alternate hypothesis that there is a statistically significant difference in the means at an alpha of .05. This is what I suspected! This is because the t-value of 8.02 is greater than the two-tailed t-star value of 2.069.\n",
    "\n",
    "6. I believe that this effect makes sense. It confuses us when we read a word that says one color but displays another. This is called the Stroop Effect. One could also design an experiment with up or down arrows above or below a target. One explanation of the Stroop Effect is the \"Speed of Processing Theory.\" According to this theory, we can process written words faster than we can process colors. Thus, it is difficult to identify the color once we’ve already read the word."
   ]
  },
  {
   "cell_type": "code",
   "execution_count": null,
   "metadata": {},
   "outputs": [],
   "source": []
  }
 ],
 "metadata": {
  "kernelspec": {
   "display_name": "Python 3",
   "language": "python",
   "name": "python3"
  },
  "language_info": {
   "codemirror_mode": {
    "name": "ipython",
    "version": 3
   },
   "file_extension": ".py",
   "mimetype": "text/x-python",
   "name": "python",
   "nbconvert_exporter": "python",
   "pygments_lexer": "ipython3",
   "version": "3.8.5"
  }
 },
 "nbformat": 4,
 "nbformat_minor": 4
}
